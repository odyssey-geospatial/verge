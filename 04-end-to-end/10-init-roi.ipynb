{
 "cells": [
  {
   "cell_type": "markdown",
   "id": "33e104f6-2875-48dc-86fd-d3cfdffe4087",
   "metadata": {
    "id": "33e104f6-2875-48dc-86fd-d3cfdffe4087"
   },
   "source": [
    "### VERGE: vecotr-mode Regional Geospatial Embeddings\n",
    "# Initialize Region Of Interest\n",
    "\n",
    "In this project we will analyze a particular region of interest, defined by a\n",
    "lon/lat bounding box. Here we save a dict with all ROI-specific parameters."
   ]
  },
  {
   "cell_type": "markdown",
   "id": "dXo_n45CNt5T",
   "metadata": {
    "id": "dXo_n45CNt5T"
   },
   "source": [
    "## Processing Setup"
   ]
  },
  {
   "cell_type": "code",
   "execution_count": 6,
   "id": "rjyGpvTwNVfs",
   "metadata": {
    "colab": {
     "base_uri": "https://localhost:8080/"
    },
    "executionInfo": {
     "elapsed": 16323,
     "status": "ok",
     "timestamp": 1755002258537,
     "user": {
      "displayName": "John Collins",
      "userId": "16643596247369517939"
     },
     "user_tz": 240
    },
    "id": "rjyGpvTwNVfs",
    "outputId": "8bf84efe-b3bc-4b0f-b58f-fe575b8b7230"
   },
   "outputs": [],
   "source": [
    "# # Google colab setup\n",
    "# import os\n",
    "# from google.colab import drive\n",
    "# drive.mount('/content/drive')\n",
    "# project_home = '/content/drive/MyDrive/Projects/verge'\n",
    "# os.chdir(project_home)"
   ]
  },
  {
   "cell_type": "code",
   "execution_count": 7,
   "id": "3tDRMJTVNd9f",
   "metadata": {
    "id": "3tDRMJTVNd9f"
   },
   "outputs": [],
   "source": [
    "# Local processing setup\n",
    "# project_home = '..'"
   ]
  },
  {
   "cell_type": "code",
   "execution_count": 23,
   "id": "ef70581b-9e6c-4988-a833-7832bf86319a",
   "metadata": {
    "execution": {
     "iopub.execute_input": "2025-09-29T10:00:48.357532Z",
     "iopub.status.busy": "2025-09-29T10:00:48.357236Z",
     "iopub.status.idle": "2025-09-29T10:00:48.361280Z",
     "shell.execute_reply": "2025-09-29T10:00:48.360333Z",
     "shell.execute_reply.started": "2025-09-29T10:00:48.357509Z"
    }
   },
   "outputs": [],
   "source": [
    "# AWS / SageMaker\n",
    "import sagemaker\n",
    "project_home = 's3://odyssey-geospatial/verge'"
   ]
  },
  {
   "cell_type": "markdown",
   "id": "FqBydyHNOJA1",
   "metadata": {
    "id": "FqBydyHNOJA1"
   },
   "source": [
    "## Code"
   ]
  },
  {
   "cell_type": "code",
   "execution_count": 24,
   "id": "308ec8dc-bda4-46e9-b8ef-8fbc2f08f0fc",
   "metadata": {
    "execution": {
     "iopub.execute_input": "2025-09-29T10:00:49.847466Z",
     "iopub.status.busy": "2025-09-29T10:00:49.847203Z",
     "iopub.status.idle": "2025-09-29T10:00:49.850330Z",
     "shell.execute_reply": "2025-09-29T10:00:49.849694Z",
     "shell.execute_reply.started": "2025-09-29T10:00:49.847446Z"
    },
    "executionInfo": {
     "elapsed": 352,
     "status": "ok",
     "timestamp": 1755002266420,
     "user": {
      "displayName": "John Collins",
      "userId": "16643596247369517939"
     },
     "user_tz": 240
    },
    "id": "308ec8dc-bda4-46e9-b8ef-8fbc2f08f0fc"
   },
   "outputs": [],
   "source": [
    "import pyproj\n",
    "import numpy as np\n",
    "import json\n",
    "import os"
   ]
  },
  {
   "cell_type": "code",
   "execution_count": 25,
   "id": "e62e5846-676c-4869-9812-c77590be285b",
   "metadata": {
    "execution": {
     "iopub.execute_input": "2025-09-29T10:00:55.544708Z",
     "iopub.status.busy": "2025-09-29T10:00:55.544435Z",
     "iopub.status.idle": "2025-09-29T10:00:55.548556Z",
     "shell.execute_reply": "2025-09-29T10:00:55.547848Z",
     "shell.execute_reply.started": "2025-09-29T10:00:55.544688Z"
    },
    "executionInfo": {
     "elapsed": 8,
     "status": "ok",
     "timestamp": 1755002301063,
     "user": {
      "displayName": "John Collins",
      "userId": "16643596247369517939"
     },
     "user_tz": 240
    },
    "id": "e62e5846-676c-4869-9812-c77590be285b"
   },
   "outputs": [],
   "source": [
    "# ROI name and bounds\n",
    "\n",
    "# All New England -- for the actual project\n",
    "# roi_name = 'newengland'\n",
    "# lat0, lon0 = 41.253746, -73.564321\n",
    "# lat1, lon1 = 45.116468, -68.058533\n",
    "\n",
    "# Small part of New England -- for development and testing\n",
    "roi_name = 'ne-test'\n",
    "lat0, lon0 = 41.253746, -73.564321\n",
    "lat1, lon1 = 42.0, -72.3\n",
    "\n",
    "# Size of tiles, in meters.\n",
    "tile_size = 2000\n",
    "\n",
    "# Resolution of encodings, in meters.\n",
    "encoding_resolution = 100\n",
    "\n",
    "# How much to shift consecutive tiles when tiling an AOI, in meters.\n",
    "tile_shift = 1000"
   ]
  },
  {
   "cell_type": "code",
   "execution_count": 26,
   "id": "1bdf4954-6f06-43c8-86f5-30e6480e18fd",
   "metadata": {
    "execution": {
     "iopub.execute_input": "2025-09-29T10:00:59.777118Z",
     "iopub.status.busy": "2025-09-29T10:00:59.776821Z",
     "iopub.status.idle": "2025-09-29T10:00:59.781337Z",
     "shell.execute_reply": "2025-09-29T10:00:59.780317Z",
     "shell.execute_reply.started": "2025-09-29T10:00:59.777095Z"
    },
    "executionInfo": {
     "elapsed": 3,
     "status": "ok",
     "timestamp": 1755002302690,
     "user": {
      "displayName": "John Collins",
      "userId": "16643596247369517939"
     },
     "user_tz": 240
    },
    "id": "1bdf4954-6f06-43c8-86f5-30e6480e18fd"
   },
   "outputs": [],
   "source": [
    "# The name of the general-purpose data directory.\n",
    "data_home = '%s/data' % (project_home)\n",
    "os.makedirs(data_home, exist_ok=True)\n",
    "\n",
    "# The name of the ROI-specific data directory.\n",
    "roi_home = '%s/data/%s' % (project_home, roi_name)\n",
    "os.makedirs(roi_home, exist_ok=True)\n"
   ]
  },
  {
   "cell_type": "code",
   "execution_count": 27,
   "id": "21fa71ad-aa46-4d39-9177-297923f43bf4",
   "metadata": {
    "execution": {
     "iopub.execute_input": "2025-09-29T10:01:00.904175Z",
     "iopub.status.busy": "2025-09-29T10:01:00.903883Z",
     "iopub.status.idle": "2025-09-29T10:01:00.929333Z",
     "shell.execute_reply": "2025-09-29T10:01:00.928474Z",
     "shell.execute_reply.started": "2025-09-29T10:01:00.904154Z"
    },
    "executionInfo": {
     "elapsed": 71,
     "status": "ok",
     "timestamp": 1755002304902,
     "user": {
      "displayName": "John Collins",
      "userId": "16643596247369517939"
     },
     "user_tz": 240
    },
    "id": "21fa71ad-aa46-4d39-9177-297923f43bf4"
   },
   "outputs": [],
   "source": [
    "# Get a good map projection for this ROI.\n",
    "center_lat = (lat0 + lat1) / 2\n",
    "center_lon = (lon0 + lon1) / 2\n",
    "\n",
    "# Local transverse mercator projection.\n",
    "proj_def = f\"\"\"\n",
    "+proj=tmerc +lat_0={center_lat} +lon_0={center_lon}\n",
    "+k=1.0 +x_0=0 +y_0=0 +datum=WGS84 +units=m +no_defs\n",
    "\"\"\"\n",
    "ltm_crs = pyproj.CRS.from_proj4(proj_def)\n",
    "\n",
    "# Forward and inverse transforms with WGS84.\n",
    "wgs84_crs = pyproj.CRS.from_epsg(4326)\n",
    "proj_forward = pyproj.Transformer.from_crs(wgs84_crs, ltm_crs, always_xy=True).transform\n",
    "proj_inverse = pyproj.Transformer.from_crs(ltm_crs, wgs84_crs, always_xy=True).transform\n",
    "\n",
    "# Get the coords of the lower left corner.\n",
    "x0, y0 = proj_forward(lon0, lat0)\n",
    "\n",
    "# Get an offset.\n",
    "x_offset = -np.floor(x0 / 1000) * 1000\n",
    "y_offset = -np.floor(y0 / 1000) * 1000\n"
   ]
  },
  {
   "cell_type": "code",
   "execution_count": 28,
   "id": "1b627154-41c9-4000-a52d-357fa7ab7136",
   "metadata": {
    "colab": {
     "base_uri": "https://localhost:8080/"
    },
    "execution": {
     "iopub.execute_input": "2025-09-29T10:01:02.385574Z",
     "iopub.status.busy": "2025-09-29T10:01:02.360750Z",
     "iopub.status.idle": "2025-09-29T10:01:02.456788Z",
     "shell.execute_reply": "2025-09-29T10:01:02.455738Z",
     "shell.execute_reply.started": "2025-09-29T10:01:02.385500Z"
    },
    "executionInfo": {
     "elapsed": 38,
     "status": "ok",
     "timestamp": 1755002306897,
     "user": {
      "displayName": "John Collins",
      "userId": "16643596247369517939"
     },
     "user_tz": 240
    },
    "id": "1b627154-41c9-4000-a52d-357fa7ab7136",
    "outputId": "d4424887-4aa6-4cf3-976f-4d6a3a149a27"
   },
   "outputs": [
    {
     "name": "stdout",
     "output_type": "stream",
     "text": [
      "17.41705232438835 752.3451999771642\n"
     ]
    }
   ],
   "source": [
    "# Re-define the local transverse mercator projection, with offsets.\n",
    "proj_def = f\"\"\"\n",
    "+proj=tmerc +lat_0={center_lat} +lon_0={center_lon}\n",
    "+k=1.0 +x_0={x_offset} +y_0={y_offset} +datum=WGS84 +units=m +no_defs\n",
    "\"\"\"\n",
    "ltm_crs = pyproj.CRS.from_proj4(proj_def)\n",
    "\n",
    "# Forward and inverse transforms with WGS84.\n",
    "wgs84_crs = pyproj.CRS.from_epsg(4326)\n",
    "proj_forward = pyproj.Transformer.from_crs(wgs84_crs, ltm_crs, always_xy=True).transform\n",
    "proj_inverse = pyproj.Transformer.from_crs(ltm_crs, wgs84_crs, always_xy=True).transform\n",
    "\n",
    "# Get the coords of the lower left corner.\n",
    "x0, y0 = proj_forward(lon0, lat0)\n",
    "print(x0, y0)\n"
   ]
  },
  {
   "cell_type": "code",
   "execution_count": 29,
   "id": "5637490a-70d2-4a67-9c2d-765cc6ec39c8",
   "metadata": {
    "colab": {
     "base_uri": "https://localhost:8080/"
    },
    "execution": {
     "iopub.execute_input": "2025-09-29T10:01:06.040271Z",
     "iopub.status.busy": "2025-09-29T10:01:06.039904Z",
     "iopub.status.idle": "2025-09-29T10:01:06.045812Z",
     "shell.execute_reply": "2025-09-29T10:01:06.045111Z",
     "shell.execute_reply.started": "2025-09-29T10:01:06.040244Z"
    },
    "executionInfo": {
     "elapsed": 13,
     "status": "ok",
     "timestamp": 1755002308547,
     "user": {
      "displayName": "John Collins",
      "userId": "16643596247369517939"
     },
     "user_tz": 240
    },
    "id": "5637490a-70d2-4a67-9c2d-765cc6ec39c8",
    "outputId": "ad782d43-d903-4192-e37a-b2c38eefc344"
   },
   "outputs": [
    {
     "name": "stdout",
     "output_type": "stream",
     "text": [
      "\n",
      "+proj=tmerc +lat_0=41.626873 +lon_0=-72.93216050000001\n",
      "+k=1.0 +x_0=53000.0 +y_0=42000.0 +datum=WGS84 +units=m +no_defs\n",
      "\n"
     ]
    }
   ],
   "source": [
    "print(proj_def)"
   ]
  },
  {
   "cell_type": "code",
   "execution_count": 30,
   "id": "5f211e7c-3eeb-4b54-bf36-d00b9ccc6d01",
   "metadata": {
    "execution": {
     "iopub.execute_input": "2025-09-29T10:01:07.834068Z",
     "iopub.status.busy": "2025-09-29T10:01:07.833499Z",
     "iopub.status.idle": "2025-09-29T10:01:07.840592Z",
     "shell.execute_reply": "2025-09-29T10:01:07.839759Z",
     "shell.execute_reply.started": "2025-09-29T10:01:07.834039Z"
    }
   },
   "outputs": [
    {
     "name": "stdout",
     "output_type": "stream",
     "text": [
      "{\n",
      "    \"name\": \"ne-test\",\n",
      "    \"lon0\": -73.564321,\n",
      "    \"lat0\": 41.253746,\n",
      "    \"lon1\": -72.3,\n",
      "    \"lat1\": 42.0,\n",
      "    \"proj_def\": \"\\n+proj=tmerc +lat_0=41.626873 +lon_0=-72.93216050000001\\n+k=1.0 +x_0=53000.0 +y_0=42000.0 +datum=WGS84 +units=m +no_defs\\n\",\n",
      "    \"tile_size\": 2000,\n",
      "    \"tile_shift\": 1000,\n",
      "    \"encoding_resolution\": 100\n",
      "}\n"
     ]
    }
   ],
   "source": [
    "# Put it all together.\n",
    "roi = {\n",
    "    'name': roi_name,\n",
    "    'lon0': lon0,\n",
    "    'lat0': lat0,\n",
    "    'lon1': lon1,\n",
    "    'lat1': lat1,\n",
    "    'proj_def': proj_def,\n",
    "    'tile_size': tile_size,\n",
    "    'tile_shift': tile_shift,\n",
    "    'encoding_resolution': encoding_resolution\n",
    "}\n",
    "print(json.dumps(roi, indent=4))"
   ]
  },
  {
   "cell_type": "code",
   "execution_count": 31,
   "id": "82ff1128-dff8-4a3c-bd9d-65fda0904eb3",
   "metadata": {
    "execution": {
     "iopub.execute_input": "2025-09-29T10:01:13.092191Z",
     "iopub.status.busy": "2025-09-29T10:01:13.091896Z",
     "iopub.status.idle": "2025-09-29T10:01:13.174623Z",
     "shell.execute_reply": "2025-09-29T10:01:13.173867Z",
     "shell.execute_reply.started": "2025-09-29T10:01:13.092169Z"
    }
   },
   "outputs": [
    {
     "name": "stdout",
     "output_type": "stream",
     "text": [
      "Wrote s3://odyssey-geospatial/verge/data/ne-test/roi.json\n"
     ]
    }
   ],
   "source": [
    "import boto3\n",
    "\n",
    "s3 = boto3.client(\"s3\")  # Studio/Notebook already has creds/region\n",
    "bucket = \"odyssey-geospatial\"\n",
    "prefix = 'verge/data/%s' % roi_name\n",
    "key = '%s/roi.json' % prefix\n",
    "\n",
    "s3.put_object(\n",
    "    Bucket=bucket,\n",
    "    Key=key,\n",
    "    Body=json.dumps(roi, ensure_ascii=False, separators=(\",\", \":\")).encode(\"utf-8\"),\n",
    "    ContentType=\"application/json\",\n",
    "    # Optional hardening:\n",
    "    # ServerSideEncryption=\"AES256\",                    # or \"aws:kms\"\n",
    "    # SSEKMSKeyId=\"arn:aws:kms:us-east-1:123:key/...\"   # when using aws:kms\n",
    ")\n",
    "\n",
    "print(f\"Wrote s3://{bucket}/{key}\")\n"
   ]
  },
  {
   "cell_type": "code",
   "execution_count": 33,
   "id": "ac54e63d-7f28-4060-9032-a0302ef8ffdb",
   "metadata": {
    "execution": {
     "iopub.execute_input": "2025-09-29T10:01:22.776005Z",
     "iopub.status.busy": "2025-09-29T10:01:22.775691Z",
     "iopub.status.idle": "2025-09-29T10:01:22.829746Z",
     "shell.execute_reply": "2025-09-29T10:01:22.827780Z",
     "shell.execute_reply.started": "2025-09-29T10:01:22.775981Z"
    }
   },
   "outputs": [
    {
     "name": "stdout",
     "output_type": "stream",
     "text": [
      "{\n",
      "    \"name\": \"ne-test\",\n",
      "    \"lon0\": -73.564321,\n",
      "    \"lat0\": 41.253746,\n",
      "    \"lon1\": -72.3,\n",
      "    \"lat1\": 42.0,\n",
      "    \"proj_def\": \"\\n+proj=tmerc +lat_0=41.626873 +lon_0=-72.93216050000001\\n+k=1.0 +x_0=53000.0 +y_0=42000.0 +datum=WGS84 +units=m +no_defs\\n\",\n",
      "    \"tile_size\": 2000,\n",
      "    \"tile_shift\": 1000,\n",
      "    \"encoding_resolution\": 100\n",
      "}\n"
     ]
    }
   ],
   "source": [
    "# Check by reading it back in.\n",
    "obj = s3.get_object(Bucket=bucket, Key=key)\n",
    "j = json.load(obj[\"Body\"])\n",
    "print(json.dumps(j, indent=4))\n"
   ]
  },
  {
   "cell_type": "code",
   "execution_count": null,
   "id": "8cc3e13c-68c1-462f-81ad-2cb1cda61458",
   "metadata": {
    "colab": {
     "base_uri": "https://localhost:8080/"
    },
    "executionInfo": {
     "elapsed": 492,
     "status": "ok",
     "timestamp": 1755002310458,
     "user": {
      "displayName": "John Collins",
      "userId": "16643596247369517939"
     },
     "user_tz": 240
    },
    "id": "8cc3e13c-68c1-462f-81ad-2cb1cda61458",
    "outputId": "bc0e8dcc-e99c-4764-b982-c4fe559f1c42"
   },
   "outputs": [],
   "source": [
    "# fname = '%s/roi.json' % roi_home\n",
    "# with open(fname, 'w') as dest:\n",
    "#     json.dump(roi, dest, indent=4)\n",
    "# print('saved %s' % fname)"
   ]
  }
 ],
 "metadata": {
  "colab": {
   "provenance": []
  },
  "kernelspec": {
   "display_name": "Python 3 (ipykernel)",
   "language": "python",
   "name": "python3"
  },
  "language_info": {
   "codemirror_mode": {
    "name": "ipython",
    "version": 3
   },
   "file_extension": ".py",
   "mimetype": "text/x-python",
   "name": "python",
   "nbconvert_exporter": "python",
   "pygments_lexer": "ipython3",
   "version": "3.12.9"
  }
 },
 "nbformat": 4,
 "nbformat_minor": 5
}
