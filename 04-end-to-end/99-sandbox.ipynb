{
 "cells": [
  {
   "cell_type": "code",
   "execution_count": 7,
   "id": "ac98167d-55ac-4629-8426-51f0e3a5f5db",
   "metadata": {
    "execution": {
     "iopub.execute_input": "2025-09-14T21:58:41.118771Z",
     "iopub.status.busy": "2025-09-14T21:58:41.118347Z",
     "iopub.status.idle": "2025-09-14T21:58:43.019690Z",
     "shell.execute_reply": "2025-09-14T21:58:43.018423Z",
     "shell.execute_reply.started": "2025-09-14T21:58:41.118745Z"
    }
   },
   "outputs": [
    {
     "name": "stdout",
     "output_type": "stream",
     "text": [
      "Collecting geo-encodings\n",
      "  Using cached geo_encodings-1.0.4-py2.py3-none-any.whl.metadata (4.0 kB)\n",
      "Requirement already satisfied: shapely in /opt/conda/lib/python3.12/site-packages (from geo-encodings) (2.1.1)\n",
      "Requirement already satisfied: scipy in /opt/conda/lib/python3.12/site-packages (from geo-encodings) (1.16.1)\n",
      "Requirement already satisfied: numpy in /opt/conda/lib/python3.12/site-packages (from geo-encodings) (1.26.4)\n",
      "Using cached geo_encodings-1.0.4-py2.py3-none-any.whl (6.9 kB)\n",
      "Installing collected packages: geo-encodings\n",
      "Successfully installed geo-encodings-1.0.4\n"
     ]
    }
   ],
   "source": [
    "!pip install geo-encodings"
   ]
  },
  {
   "cell_type": "code",
   "execution_count": 8,
   "id": "34781ac3-9b90-4125-9184-c2bb44a25aab",
   "metadata": {
    "execution": {
     "iopub.execute_input": "2025-09-14T21:58:50.135141Z",
     "iopub.status.busy": "2025-09-14T21:58:50.134843Z",
     "iopub.status.idle": "2025-09-14T21:58:50.821858Z",
     "shell.execute_reply": "2025-09-14T21:58:50.820904Z",
     "shell.execute_reply.started": "2025-09-14T21:58:50.135115Z"
    }
   },
   "outputs": [
    {
     "name": "stdout",
     "output_type": "stream",
     "text": [
      "geo-encodings==1.0.4\n"
     ]
    }
   ],
   "source": [
    "%%sh\n",
    "pip freeze | grep geo-encodings"
   ]
  },
  {
   "cell_type": "code",
   "execution_count": null,
   "id": "3239db51-162d-4df4-b980-38b97796aa13",
   "metadata": {},
   "outputs": [],
   "source": []
  }
 ],
 "metadata": {
  "kernelspec": {
   "display_name": "Python 3 (ipykernel)",
   "language": "python",
   "name": "python3"
  },
  "language_info": {
   "codemirror_mode": {
    "name": "ipython",
    "version": 3
   },
   "file_extension": ".py",
   "mimetype": "text/x-python",
   "name": "python",
   "nbconvert_exporter": "python",
   "pygments_lexer": "ipython3",
   "version": "3.12.9"
  }
 },
 "nbformat": 4,
 "nbformat_minor": 5
}
